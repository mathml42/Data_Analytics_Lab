{
 "cells": [
  {
   "cell_type": "code",
   "execution_count": 1,
   "id": "68d26458-61e5-4b9f-a782-76f3e26b2970",
   "metadata": {},
   "outputs": [],
   "source": [
    "import numpy as np\n",
    "import pandas as pd"
   ]
  },
  {
   "cell_type": "code",
   "execution_count": 2,
   "id": "10e732df-bef5-4713-8df1-5573c7f89ca5",
   "metadata": {},
   "outputs": [],
   "source": [
    "df = pd.read_csv('Dog100.csv')"
   ]
  },
  {
   "cell_type": "code",
   "execution_count": 3,
   "id": "0c1f12f7-940d-4659-bab9-b6cb6770b9d5",
   "metadata": {},
   "outputs": [
    {
     "data": {
      "text/html": [
       "<div>\n",
       "<style scoped>\n",
       "    .dataframe tbody tr th:only-of-type {\n",
       "        vertical-align: middle;\n",
       "    }\n",
       "\n",
       "    .dataframe tbody tr th {\n",
       "        vertical-align: top;\n",
       "    }\n",
       "\n",
       "    .dataframe thead th {\n",
       "        text-align: right;\n",
       "    }\n",
       "</style>\n",
       "<table border=\"1\" class=\"dataframe\">\n",
       "  <thead>\n",
       "    <tr style=\"text-align: right;\">\n",
       "      <th></th>\n",
       "      <th>X</th>\n",
       "      <th>Y</th>\n",
       "    </tr>\n",
       "  </thead>\n",
       "  <tbody>\n",
       "    <tr>\n",
       "      <th>0</th>\n",
       "      <td>23.002407</td>\n",
       "      <td>28.852272</td>\n",
       "    </tr>\n",
       "    <tr>\n",
       "      <th>1</th>\n",
       "      <td>22.867367</td>\n",
       "      <td>25.864346</td>\n",
       "    </tr>\n",
       "    <tr>\n",
       "      <th>2</th>\n",
       "      <td>23.158079</td>\n",
       "      <td>23.826321</td>\n",
       "    </tr>\n",
       "    <tr>\n",
       "      <th>3</th>\n",
       "      <td>23.472701</td>\n",
       "      <td>32.143325</td>\n",
       "    </tr>\n",
       "    <tr>\n",
       "      <th>4</th>\n",
       "      <td>23.582748</td>\n",
       "      <td>21.874339</td>\n",
       "    </tr>\n",
       "  </tbody>\n",
       "</table>\n",
       "</div>"
      ],
      "text/plain": [
       "           X          Y\n",
       "0  23.002407  28.852272\n",
       "1  22.867367  25.864346\n",
       "2  23.158079  23.826321\n",
       "3  23.472701  32.143325\n",
       "4  23.582748  21.874339"
      ]
     },
     "execution_count": 3,
     "metadata": {},
     "output_type": "execute_result"
    }
   ],
   "source": [
    "df.head()"
   ]
  },
  {
   "cell_type": "code",
   "execution_count": 7,
   "id": "29078268-25f5-4680-9ac0-10373ac2a7fc",
   "metadata": {},
   "outputs": [],
   "source": [
    "df.dropna(inplace=True)"
   ]
  },
  {
   "cell_type": "code",
   "execution_count": 9,
   "id": "8aada886-42bd-45db-abea-d15c1e007c9c",
   "metadata": {},
   "outputs": [],
   "source": [
    "df = df.astype(int)"
   ]
  },
  {
   "cell_type": "code",
   "execution_count": 11,
   "id": "2e8746c8-fa8e-42d5-b6d4-9c0ece666a7f",
   "metadata": {},
   "outputs": [],
   "source": [
    "from scipy.sparse import lil_matrix"
   ]
  },
  {
   "cell_type": "code",
   "execution_count": 13,
   "id": "01f0224c-23eb-4181-a996-2d3243382982",
   "metadata": {},
   "outputs": [],
   "source": [
    "sparse_matrix = lil_matrix((100,100),dtype=int)"
   ]
  },
  {
   "cell_type": "code",
   "execution_count": 15,
   "id": "6d8638f7-217d-4788-8dca-aa0d69ed61a9",
   "metadata": {},
   "outputs": [],
   "source": [
    "for _, row in df.iterrows():\n",
    "    sparse_matrix[row['X'], row['Y']] = 1"
   ]
  },
  {
   "cell_type": "code",
   "execution_count": 17,
   "id": "5e4e0970-5d9c-4fec-8b8c-d751d5c5f84f",
   "metadata": {},
   "outputs": [],
   "source": [
    "sparse_matrix = sparse_matrix.tocsr()"
   ]
  },
  {
   "cell_type": "code",
   "execution_count": 19,
   "id": "bc691432-ab1e-4c22-a953-99d9c3f52f03",
   "metadata": {},
   "outputs": [
    {
     "data": {
      "text/plain": [
       "<100x100 sparse matrix of type '<class 'numpy.int32'>'\n",
       "\twith 137 stored elements in Compressed Sparse Row format>"
      ]
     },
     "execution_count": 19,
     "metadata": {},
     "output_type": "execute_result"
    }
   ],
   "source": [
    "sparse_matrix"
   ]
  },
  {
   "cell_type": "code",
   "execution_count": 21,
   "id": "7232feb4-de78-420a-b273-f4742434520f",
   "metadata": {},
   "outputs": [],
   "source": [
    "import matplotlib.pyplot as plt\n",
    "import seaborn as sns\n",
    "%matplotlib inline"
   ]
  },
  {
   "cell_type": "code",
   "execution_count": 22,
   "id": "e141ed50-a23c-47c0-8e84-88e59950d5ad",
   "metadata": {},
   "outputs": [],
   "source": [
    "Xc , Yc = sparse_matrix.nonzero()"
   ]
  },
  {
   "cell_type": "code",
   "execution_count": 155,
   "id": "fa4f8842-9b4f-44f1-87bc-bc1d927143b0",
   "metadata": {
    "scrolled": true
   },
   "outputs": [
    {
     "data": {
      "text/plain": [
       "array([22, 23, 23, 23, 23, 24, 24, 25, 25, 26, 26, 27, 27, 29, 30, 32, 34,\n",
       "       34, 34, 34, 35, 35, 35, 35, 36, 36, 37, 37, 39, 39, 41, 41, 42, 42,\n",
       "       44, 44, 46, 46, 47, 48, 48, 49, 49, 49, 49, 49, 50, 50, 50, 50, 51,\n",
       "       51, 51, 51, 51, 52, 52, 52, 52, 52, 53, 53, 53, 53, 54, 54, 54, 54,\n",
       "       54, 54, 55, 55, 55, 56, 56, 57, 58, 59, 59, 60, 61, 61, 61, 61, 61,\n",
       "       63, 63, 64, 64, 64, 64, 65, 65, 65, 65, 65, 66, 66, 66, 67, 67, 67,\n",
       "       68, 68, 68, 68, 68, 69, 69, 69, 70, 70, 70, 70, 70, 70, 70, 70, 70,\n",
       "       71, 71, 71, 71, 72, 73, 73, 75, 75, 76, 77, 78, 79, 79, 80, 80, 81,\n",
       "       82])"
      ]
     },
     "execution_count": 155,
     "metadata": {},
     "output_type": "execute_result"
    }
   ],
   "source": [
    "Xc"
   ]
  },
  {
   "cell_type": "code",
   "execution_count": 157,
   "id": "469aef17-ece8-4deb-8ee0-5b1ba583557e",
   "metadata": {},
   "outputs": [
    {
     "data": {
      "text/plain": [
       "array([25, 21, 23, 28, 32, 19, 34, 17, 36, 15, 38, 13, 39, 12, 11, 10,  9,\n",
       "       24, 27, 29, 20, 22, 32, 34,  9, 36,  9, 38,  9, 40,  9, 42,  9, 44,\n",
       "        9, 46,  9, 47, 49,  9, 35,  9, 52, 66, 69, 72, 34, 54, 64, 74,  9,\n",
       "       16, 56, 59, 76, 17, 32, 61, 62, 78,  9, 15, 30, 62, 14, 20, 23, 26,\n",
       "       28, 80,  9, 12, 62, 10, 81, 63, 82, 64, 83, 66,  9, 69, 71, 73, 83,\n",
       "        9, 83, 19, 22, 25, 83,  9, 17, 27, 29, 63, 15, 31, 82,  9, 33, 62,\n",
       "        9, 14, 35, 38, 81, 12, 40, 61, 10, 42, 44, 47, 53, 55, 57, 60, 80,\n",
       "       49, 51, 61, 79, 77, 61, 75, 62, 75, 63, 74, 64, 66, 74, 69, 74, 71,\n",
       "       73])"
      ]
     },
     "execution_count": 157,
     "metadata": {},
     "output_type": "execute_result"
    }
   ],
   "source": [
    "Yc"
   ]
  },
  {
   "cell_type": "code",
   "execution_count": 173,
   "id": "50d03703-8ae7-4dec-8c88-410547959f1b",
   "metadata": {},
   "outputs": [],
   "source": [
    "lst=[]\n",
    "for i in range(0,136):\n",
    "    a=[Xc[i],Yc[i]]\n",
    "    lst.append(a)"
   ]
  },
  {
   "cell_type": "code",
   "execution_count": 179,
   "id": "4929fbdc-9793-4f73-99fa-d7fddb45a221",
   "metadata": {},
   "outputs": [],
   "source": [
    "lst_new=np.array(lst)"
   ]
  },
  {
   "cell_type": "code",
   "execution_count": 169,
   "id": "7f4a42d2-6345-4153-893d-235130bf183f",
   "metadata": {},
   "outputs": [
    {
     "ename": "IndexError",
     "evalue": "too many indices for array: array is 0-dimensional, but 1 were indexed",
     "output_type": "error",
     "traceback": [
      "\u001b[1;31m---------------------------------------------------------------------------\u001b[0m",
      "\u001b[1;31mIndexError\u001b[0m                                Traceback (most recent call last)",
      "Cell \u001b[1;32mIn[169], line 1\u001b[0m\n\u001b[1;32m----> 1\u001b[0m \u001b[38;5;28mprint\u001b[39m(new_ele[\u001b[38;5;241m0\u001b[39m])\n",
      "\u001b[1;31mIndexError\u001b[0m: too many indices for array: array is 0-dimensional, but 1 were indexed"
     ]
    }
   ],
   "source": []
  },
  {
   "cell_type": "code",
   "execution_count": 27,
   "id": "04398bd0-5683-40fc-92a7-6f095ab72861",
   "metadata": {},
   "outputs": [
    {
     "data": {
      "text/plain": [
       "<Axes: >"
      ]
     },
     "execution_count": 27,
     "metadata": {},
     "output_type": "execute_result"
    },
    {
     "data": {
      "image/png": "[encoded data removed]",
      "text/plain": [
       "<Figure size 400x400 with 1 Axes>"
      ]
     },
     "metadata": {},
     "output_type": "display_data"
    }
   ],
   "source": [
    "plt.figure(figsize=(4,4))\n",
    "sns.scatterplot(x=Xc,y=Yc)"
   ]
  },
  {
   "cell_type": "code",
   "execution_count": 43,
   "id": "0e45899f-3582-499c-93a4-8ffe93d51a21",
   "metadata": {},
   "outputs": [],
   "source": [
    "cd = sparse_matrix.get_shape()"
   ]
  },
  {
   "cell_type": "code",
   "execution_count": 153,
   "id": "67b84d93-ed52-4c06-9d74-52f2b3d01c3a",
   "metadata": {},
   "outputs": [
    {
     "name": "stdout",
     "output_type": "stream",
     "text": [
      "  (22, 25)\t1\n",
      "  (23, 21)\t1\n",
      "  (23, 23)\t1\n",
      "  (23, 28)\t1\n",
      "  (23, 32)\t1\n",
      "  (24, 19)\t1\n",
      "  (24, 34)\t1\n",
      "  (25, 17)\t1\n",
      "  (25, 36)\t1\n",
      "  (26, 15)\t1\n",
      "  (26, 38)\t1\n",
      "  (27, 13)\t1\n",
      "  (27, 39)\t1\n",
      "  (29, 12)\t1\n",
      "  (30, 11)\t1\n",
      "  (32, 10)\t1\n",
      "  (34, 9)\t1\n",
      "  (34, 24)\t1\n",
      "  (34, 27)\t1\n",
      "  (34, 29)\t1\n",
      "  (35, 20)\t1\n",
      "  (35, 22)\t1\n",
      "  (35, 32)\t1\n",
      "  (35, 34)\t1\n",
      "  (36, 9)\t1\n",
      "  :\t:\n",
      "  (70, 44)\t1\n",
      "  (70, 47)\t1\n",
      "  (70, 53)\t1\n",
      "  (70, 55)\t1\n",
      "  (70, 57)\t1\n",
      "  (70, 60)\t1\n",
      "  (70, 80)\t1\n",
      "  (71, 49)\t1\n",
      "  (71, 51)\t1\n",
      "  (71, 61)\t1\n",
      "  (71, 79)\t1\n",
      "  (72, 77)\t1\n",
      "  (73, 61)\t1\n",
      "  (73, 75)\t1\n",
      "  (75, 62)\t1\n",
      "  (75, 75)\t1\n",
      "  (76, 63)\t1\n",
      "  (77, 74)\t1\n",
      "  (78, 64)\t1\n",
      "  (79, 66)\t1\n",
      "  (79, 74)\t1\n",
      "  (80, 69)\t1\n",
      "  (80, 74)\t1\n",
      "  (81, 71)\t1\n",
      "  (82, 73)\t1\n"
     ]
    }
   ],
   "source": [
    "print(sparse_matrix)"
   ]
  },
  {
   "cell_type": "code",
   "execution_count": 147,
   "id": "e99a919a-ffcb-4613-9546-be96f6b4b6e2",
   "metadata": {},
   "outputs": [
    {
     "name": "stdout",
     "output_type": "stream",
     "text": [
      "137\n"
     ]
    }
   ],
   "source": [
    "print(sparse_matrix.getnnz())"
   ]
  },
  {
   "cell_type": "code",
   "execution_count": 151,
   "id": "45daaec9-17b6-4f34-a77c-f72d03855554",
   "metadata": {},
   "outputs": [
    {
     "data": {
      "text/plain": [
       "array([[ 0, -1],\n",
       "       [ 1,  0]])"
      ]
     },
     "execution_count": 151,
     "metadata": {},
     "output_type": "execute_result"
    }
   ],
   "source": [
    "mat1=np.array([[0,-1],[1,0]])\n",
    "mat1"
   ]
  },
  {
   "cell_type": "code",
   "execution_count": 185,
   "id": "70e4aaa0-f4f3-4fa0-a76b-0957aede872e",
   "metadata": {},
   "outputs": [],
   "source": [
    "lst_res1=[]\n",
    "for i in range (0,136):\n",
    "    res=np.matmul(mat1,lst_new[i])\n",
    "    lst_res1.append(res)\n",
    "    \n",
    "    "
   ]
  },
  {
   "cell_type": "code",
   "execution_count": 189,
   "id": "3a9dd806-f2e2-4da6-8cc8-407801e49b43",
   "metadata": {},
   "outputs": [],
   "source": [
    "R90=pd.DataFrame(lst_res1)"
   ]
  },
  {
   "cell_type": "code",
   "execution_count": 195,
   "id": "37f4743c-f3e2-4851-89c3-4dfb8f254c44",
   "metadata": {},
   "outputs": [
    {
     "data": {
      "text/html": [
       "<div>\n",
       "<style scoped>\n",
       "    .dataframe tbody tr th:only-of-type {\n",
       "        vertical-align: middle;\n",
       "    }\n",
       "\n",
       "    .dataframe tbody tr th {\n",
       "        vertical-align: top;\n",
       "    }\n",
       "\n",
       "    .dataframe thead th {\n",
       "        text-align: right;\n",
       "    }\n",
       "</style>\n",
       "<table border=\"1\" class=\"dataframe\">\n",
       "  <thead>\n",
       "    <tr style=\"text-align: right;\">\n",
       "      <th></th>\n",
       "      <th>X</th>\n",
       "      <th>Y</th>\n",
       "    </tr>\n",
       "  </thead>\n",
       "  <tbody>\n",
       "    <tr>\n",
       "      <th>0</th>\n",
       "      <td>-25</td>\n",
       "      <td>22</td>\n",
       "    </tr>\n",
       "    <tr>\n",
       "      <th>1</th>\n",
       "      <td>-21</td>\n",
       "      <td>23</td>\n",
       "    </tr>\n",
       "    <tr>\n",
       "      <th>2</th>\n",
       "      <td>-23</td>\n",
       "      <td>23</td>\n",
       "    </tr>\n",
       "    <tr>\n",
       "      <th>3</th>\n",
       "      <td>-28</td>\n",
       "      <td>23</td>\n",
       "    </tr>\n",
       "    <tr>\n",
       "      <th>4</th>\n",
       "      <td>-32</td>\n",
       "      <td>23</td>\n",
       "    </tr>\n",
       "    <tr>\n",
       "      <th>...</th>\n",
       "      <td>...</td>\n",
       "      <td>...</td>\n",
       "    </tr>\n",
       "    <tr>\n",
       "      <th>131</th>\n",
       "      <td>-66</td>\n",
       "      <td>79</td>\n",
       "    </tr>\n",
       "    <tr>\n",
       "      <th>132</th>\n",
       "      <td>-74</td>\n",
       "      <td>79</td>\n",
       "    </tr>\n",
       "    <tr>\n",
       "      <th>133</th>\n",
       "      <td>-69</td>\n",
       "      <td>80</td>\n",
       "    </tr>\n",
       "    <tr>\n",
       "      <th>134</th>\n",
       "      <td>-74</td>\n",
       "      <td>80</td>\n",
       "    </tr>\n",
       "    <tr>\n",
       "      <th>135</th>\n",
       "      <td>-71</td>\n",
       "      <td>81</td>\n",
       "    </tr>\n",
       "  </tbody>\n",
       "</table>\n",
       "<p>136 rows × 2 columns</p>\n",
       "</div>"
      ],
      "text/plain": [
       "      X   Y\n",
       "0   -25  22\n",
       "1   -21  23\n",
       "2   -23  23\n",
       "3   -28  23\n",
       "4   -32  23\n",
       "..   ..  ..\n",
       "131 -66  79\n",
       "132 -74  79\n",
       "133 -69  80\n",
       "134 -74  80\n",
       "135 -71  81\n",
       "\n",
       "[136 rows x 2 columns]"
      ]
     },
     "execution_count": 195,
     "metadata": {},
     "output_type": "execute_result"
    }
   ],
   "source": [
    "R90.columns=['X','Y']\n",
    "R90"
   ]
  },
  {
   "cell_type": "code",
   "execution_count": 201,
   "id": "f981ce39-8cdd-4b6d-b4e9-8b622628def2",
   "metadata": {},
   "outputs": [
    {
     "data": {
      "text/plain": [
       "<Axes: xlabel='X', ylabel='Y'>"
      ]
     },
     "execution_count": 201,
     "metadata": {},
     "output_type": "execute_result"
    },
    {
     "data": {
      "image/png": "[encoded data removed]",
      "text/plain": [
       "<Figure size 400x400 with 1 Axes>"
      ]
     },
     "metadata": {},
     "output_type": "display_data"
    }
   ],
   "source": [
    "plt.figure(figsize=(4,4))\n",
    "sns.scatterplot(x=R90['X'],y=R90['Y'])"
   ]
  },
  {
   "cell_type": "code",
   "execution_count": 16,
   "id": "d21ed008-29b7-4b2c-8752-92548d39ca83",
   "metadata": {},
   "outputs": [],
   "source": [
    "s90 = sparse_matrix.transpose()"
   ]
  },
  {
   "cell_type": "code",
   "execution_count": 17,
   "id": "38888dc2-bff0-4546-b785-6f5a8c9f9d6e",
   "metadata": {},
   "outputs": [],
   "source": [
    "x90 , y90 = s90.nonzero()"
   ]
  },
  {
   "cell_type": "code",
   "execution_count": 18,
   "id": "dda53faf-6332-4e8d-b0e0-38bed2048552",
   "metadata": {},
   "outputs": [
    {
     "data": {
      "text/plain": [
       "<Axes: >"
      ]
     },
     "execution_count": 18,
     "metadata": {},
     "output_type": "execute_result"
    },
    {
     "data": {
      "image/png": "[encoded data removed]",
      "text/plain": [
       "<Figure size 300x300 with 1 Axes>"
      ]
     },
     "metadata": {},
     "output_type": "display_data"
    }
   ],
   "source": [
    "plt.figure(figsize=(4,4))\n",
    "sns.scatterplot(x=x90,y=-y90)"
   ]
  },
  {
   "cell_type": "code",
   "execution_count": 19,
   "id": "88c42420-dfc3-49dc-a857-1b77b3865023",
   "metadata": {},
   "outputs": [],
   "source": [
    "xm, ym = sparse_matrix.nonzero()"
   ]
  },
  {
   "cell_type": "code",
   "execution_count": 20,
   "id": "fd1dacd0-17a0-46c4-b7eb-079e062cff40",
   "metadata": {},
   "outputs": [
    {
     "data": {
      "text/plain": [
       "<Axes: >"
      ]
     },
     "execution_count": 20,
     "metadata": {},
     "output_type": "execute_result"
    },
    {
     "data": {
      "image/png": "[encoded data removed]",
      "text/plain": [
       "<Figure size 300x300 with 1 Axes>"
      ]
     },
     "metadata": {},
     "output_type": "display_data"
    }
   ],
   "source": [
    "plt.figure(figsize=(4,4))\n",
    "sns.scatterplot(x=xm,y=-ym)"
   ]
  },
  {
   "cell_type": "code",
   "execution_count": 65,
   "id": "f9108fc6-eecb-4752-bd2b-8803698fc655",
   "metadata": {},
   "outputs": [
    {
     "name": "stdout",
     "output_type": "stream",
     "text": [
      "  (0, 34)\t1\n",
      "  (0, 54)\t1\n",
      "  (0, 64)\t1\n",
      "  (0, 74)\t1\n"
     ]
    }
   ],
   "source": [
    "print(sparse_matrix[50])"
   ]
  },
  {
   "cell_type": "code",
   "execution_count": null,
   "id": "ca556e9d-7488-4608-a9a1-659832e05f32",
   "metadata": {},
   "outputs": [],
   "source": []
  }
 ],
 "metadata": {
  "kernelspec": {
   "display_name": "Python 3 (ipykernel)",
   "language": "python",
   "name": "python3"
  },
  "language_info": {
   "codemirror_mode": {
    "name": "ipython",
    "version": 3
   },
   "file_extension": ".py",
   "mimetype": "text/x-python",
   "name": "python",
   "nbconvert_exporter": "python",
   "pygments_lexer": "ipython3",
   "version": "3.11.7"
  }
 },
 "nbformat": 4,
 "nbformat_minor": 5
}
